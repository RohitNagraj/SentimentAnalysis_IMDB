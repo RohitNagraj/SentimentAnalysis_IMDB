{
 "cells": [
  {
   "cell_type": "code",
   "execution_count": 1,
   "metadata": {},
   "outputs": [],
   "source": [
    "import pandas as pd"
   ]
  },
  {
   "cell_type": "code",
   "execution_count": 2,
   "metadata": {},
   "outputs": [],
   "source": [
    "train = pd.read_csv('data/labeledTrainData.tsv', header=0, delimiter='\\t', quoting=3)"
   ]
  },
  {
   "cell_type": "code",
   "execution_count": 3,
   "metadata": {},
   "outputs": [],
   "source": [
    "test = pd.read_csv('data/testData.tsv', header=0, delimiter='\\t', quoting=3)"
   ]
  },
  {
   "cell_type": "code",
   "execution_count": 4,
   "metadata": {},
   "outputs": [
    {
     "data": {
      "text/plain": [
       "(25000, 3)"
      ]
     },
     "execution_count": 4,
     "metadata": {},
     "output_type": "execute_result"
    }
   ],
   "source": [
    "train.shape"
   ]
  },
  {
   "cell_type": "code",
   "execution_count": 5,
   "metadata": {},
   "outputs": [
    {
     "data": {
      "text/plain": [
       "(25000, 2)"
      ]
     },
     "execution_count": 5,
     "metadata": {},
     "output_type": "execute_result"
    }
   ],
   "source": [
    "test.shape"
   ]
  },
  {
   "cell_type": "code",
   "execution_count": 7,
   "metadata": {},
   "outputs": [],
   "source": [
    "unlabeled_train = pd.read_csv('data/unlabeledTrainData.tsv', header=0, delimiter='\\t',\n",
    "                             quoting=3)"
   ]
  },
  {
   "cell_type": "code",
   "execution_count": 8,
   "metadata": {},
   "outputs": [
    {
     "data": {
      "text/plain": [
       "(50000, 2)"
      ]
     },
     "execution_count": 8,
     "metadata": {},
     "output_type": "execute_result"
    }
   ],
   "source": [
    "unlabeled_train.shape"
   ]
  },
  {
   "cell_type": "markdown",
   "metadata": {},
   "source": [
    "## Data cleaning"
   ]
  },
  {
   "cell_type": "code",
   "execution_count": 9,
   "metadata": {},
   "outputs": [],
   "source": [
    "from bs4 import BeautifulSoup"
   ]
  },
  {
   "cell_type": "code",
   "execution_count": 10,
   "metadata": {},
   "outputs": [],
   "source": [
    "import re\n",
    "from nltk.corpus import stopwords"
   ]
  },
  {
   "cell_type": "code",
   "execution_count": 23,
   "metadata": {},
   "outputs": [],
   "source": [
    "def review_to_wordlist(review, remove_stopwords=False):\n",
    "    review_text = BeautifulSoup(review).get_text()\n",
    "    review_text = re.sub(\"[^a-zA-Z]\", ' ', review_text)\n",
    "    words = review_text.lower().split()\n",
    "    if remove_stopwords:\n",
    "        stops = set(stopwords.words('english'))\n",
    "        words = [w for w in words if not w in stops]\n",
    "    return words"
   ]
  },
  {
   "cell_type": "code",
   "execution_count": 13,
   "metadata": {},
   "outputs": [],
   "source": [
    "import nltk.data"
   ]
  },
  {
   "cell_type": "code",
   "execution_count": 17,
   "metadata": {},
   "outputs": [],
   "source": [
    "tokenizer = nltk.data.load('tokenizers/punkt/english.pickle')"
   ]
  },
  {
   "cell_type": "code",
   "execution_count": 18,
   "metadata": {},
   "outputs": [],
   "source": [
    "def review_to_sentences(review, tokenizer, remove_stopwords=False):\n",
    "    raw_sentences = tokenizer.tokenize(review.strip())\n",
    "    sentences = []\n",
    "    for raw_sentence in raw_sentences:\n",
    "        if len(raw_sentence) > 0:\n",
    "            sentences.append(review_to_wordlist(raw_sentence, remove_stopwords))\n",
    "    return sentences"
   ]
  },
  {
   "cell_type": "code",
   "execution_count": 19,
   "metadata": {},
   "outputs": [],
   "source": [
    "sentences = []"
   ]
  },
  {
   "cell_type": "code",
   "execution_count": 24,
   "metadata": {},
   "outputs": [
    {
     "name": "stderr",
     "output_type": "stream",
     "text": [
      "/home/rohit/.pyenv/versions/3.6.10/lib/python3.6/site-packages/bs4/__init__.py:312: UserWarning: \".\" looks like a filename, not markup. You should probably open this file and pass the filehandle into Beautiful Soup.\n",
      "  ' Beautiful Soup.' % self._decode_markup(markup)\n",
      "/home/rohit/.pyenv/versions/3.6.10/lib/python3.6/site-packages/bs4/__init__.py:398: UserWarning: \"http://www.happierabroad.com\"\" looks like a URL. Beautiful Soup is not an HTTP client. You should probably use an HTTP client like requests to get the document behind the URL, and feed that document to Beautiful Soup.\n",
      "  markup\n"
     ]
    }
   ],
   "source": [
    "for review in train.review:\n",
    "    sentences += review_to_sentences(review, tokenizer)"
   ]
  },
  {
   "cell_type": "code",
   "execution_count": 25,
   "metadata": {},
   "outputs": [
    {
     "name": "stdout",
     "output_type": "stream",
     "text": [
      "266551\n"
     ]
    }
   ],
   "source": [
    "print(len(sentences))"
   ]
  },
  {
   "cell_type": "code",
   "execution_count": 27,
   "metadata": {},
   "outputs": [
    {
     "name": "stderr",
     "output_type": "stream",
     "text": [
      "/home/rohit/.pyenv/versions/3.6.10/lib/python3.6/site-packages/bs4/__init__.py:398: UserWarning: \"http://www.archive.org/details/LovefromaStranger\"\" looks like a URL. Beautiful Soup is not an HTTP client. You should probably use an HTTP client like requests to get the document behind the URL, and feed that document to Beautiful Soup.\n",
      "  markup\n",
      "/home/rohit/.pyenv/versions/3.6.10/lib/python3.6/site-packages/bs4/__init__.py:398: UserWarning: \"http://www.loosechangeguide.com/LooseChangeGuide.html\"\" looks like a URL. Beautiful Soup is not an HTTP client. You should probably use an HTTP client like requests to get the document behind the URL, and feed that document to Beautiful Soup.\n",
      "  markup\n",
      "/home/rohit/.pyenv/versions/3.6.10/lib/python3.6/site-packages/bs4/__init__.py:398: UserWarning: \"http://www.msnbc.msn.com/id/4972055/site/newsweek/\"\" looks like a URL. Beautiful Soup is not an HTTP client. You should probably use an HTTP client like requests to get the document behind the URL, and feed that document to Beautiful Soup.\n",
      "  markup\n",
      "/home/rohit/.pyenv/versions/3.6.10/lib/python3.6/site-packages/bs4/__init__.py:312: UserWarning: \"..\" looks like a filename, not markup. You should probably open this file and pass the filehandle into Beautiful Soup.\n",
      "  ' Beautiful Soup.' % self._decode_markup(markup)\n",
      "/home/rohit/.pyenv/versions/3.6.10/lib/python3.6/site-packages/bs4/__init__.py:398: UserWarning: \"http://www.youtube.com/watch?v=a0KSqelmgN8\"\" looks like a URL. Beautiful Soup is not an HTTP client. You should probably use an HTTP client like requests to get the document behind the URL, and feed that document to Beautiful Soup.\n",
      "  markup\n",
      "/home/rohit/.pyenv/versions/3.6.10/lib/python3.6/site-packages/bs4/__init__.py:398: UserWarning: \"http://jake-weird.blogspot.com/2007/08/beneath.html\"\" looks like a URL. Beautiful Soup is not an HTTP client. You should probably use an HTTP client like requests to get the document behind the URL, and feed that document to Beautiful Soup.\n",
      "  markup\n"
     ]
    }
   ],
   "source": [
    "for review in unlabeled_train.review:\n",
    "    sentences += review_to_sentences(review, tokenizer)"
   ]
  },
  {
   "cell_type": "code",
   "execution_count": 29,
   "metadata": {},
   "outputs": [
    {
     "name": "stdout",
     "output_type": "stream",
     "text": [
      "795538\n"
     ]
    }
   ],
   "source": [
    "print(len(sentences))"
   ]
  },
  {
   "cell_type": "markdown",
   "metadata": {},
   "source": [
    "## MODEL"
   ]
  },
  {
   "cell_type": "code",
   "execution_count": 32,
   "metadata": {},
   "outputs": [],
   "source": [
    "import logging\n",
    "logging.basicConfig(format='%(asctime)s : %(levelname)s : %(message)s', level=logging.INFO)"
   ]
  },
  {
   "cell_type": "code",
   "execution_count": 39,
   "metadata": {},
   "outputs": [],
   "source": [
    "num_features = 300\n",
    "min_word_count = 40\n",
    "num_workers=8\n",
    "context = 10\n",
    "downsampling = 1e-3"
   ]
  },
  {
   "cell_type": "code",
   "execution_count": 40,
   "metadata": {},
   "outputs": [],
   "source": [
    "from gensim.models import word2vec"
   ]
  },
  {
   "cell_type": "code",
   "execution_count": 41,
   "metadata": {},
   "outputs": [
    {
     "name": "stderr",
     "output_type": "stream",
     "text": [
      "2020-04-18 19:22:46,730 : INFO : collecting all words and their counts\n",
      "2020-04-18 19:22:46,732 : INFO : PROGRESS: at sentence #0, processed 0 words, keeping 0 word types\n",
      "2020-04-18 19:22:46,797 : INFO : PROGRESS: at sentence #10000, processed 225803 words, keeping 17776 word types\n",
      "2020-04-18 19:22:46,842 : INFO : PROGRESS: at sentence #20000, processed 451892 words, keeping 24948 word types\n",
      "2020-04-18 19:22:46,882 : INFO : PROGRESS: at sentence #30000, processed 671314 words, keeping 30034 word types\n",
      "2020-04-18 19:22:46,931 : INFO : PROGRESS: at sentence #40000, processed 897814 words, keeping 34348 word types\n",
      "2020-04-18 19:22:46,972 : INFO : PROGRESS: at sentence #50000, processed 1116962 words, keeping 37761 word types\n",
      "2020-04-18 19:22:47,015 : INFO : PROGRESS: at sentence #60000, processed 1338403 words, keeping 40723 word types\n",
      "2020-04-18 19:22:47,056 : INFO : PROGRESS: at sentence #70000, processed 1561579 words, keeping 43333 word types\n",
      "2020-04-18 19:22:47,096 : INFO : PROGRESS: at sentence #80000, processed 1780886 words, keeping 45714 word types\n",
      "2020-04-18 19:22:47,142 : INFO : PROGRESS: at sentence #90000, processed 2004995 words, keeping 48135 word types\n",
      "2020-04-18 19:22:47,187 : INFO : PROGRESS: at sentence #100000, processed 2226966 words, keeping 50207 word types\n",
      "2020-04-18 19:22:47,233 : INFO : PROGRESS: at sentence #110000, processed 2446580 words, keeping 52081 word types\n",
      "2020-04-18 19:22:47,280 : INFO : PROGRESS: at sentence #120000, processed 2668775 words, keeping 54119 word types\n",
      "2020-04-18 19:22:47,326 : INFO : PROGRESS: at sentence #130000, processed 2894303 words, keeping 55847 word types\n",
      "2020-04-18 19:22:47,370 : INFO : PROGRESS: at sentence #140000, processed 3107005 words, keeping 57346 word types\n",
      "2020-04-18 19:22:47,416 : INFO : PROGRESS: at sentence #150000, processed 3332627 words, keeping 59055 word types\n",
      "2020-04-18 19:22:47,462 : INFO : PROGRESS: at sentence #160000, processed 3555315 words, keeping 60617 word types\n",
      "2020-04-18 19:22:47,505 : INFO : PROGRESS: at sentence #170000, processed 3778655 words, keeping 62077 word types\n",
      "2020-04-18 19:22:47,550 : INFO : PROGRESS: at sentence #180000, processed 3999236 words, keeping 63496 word types\n",
      "2020-04-18 19:22:47,596 : INFO : PROGRESS: at sentence #190000, processed 4224449 words, keeping 64794 word types\n",
      "2020-04-18 19:22:47,657 : INFO : PROGRESS: at sentence #200000, processed 4448603 words, keeping 66087 word types\n",
      "2020-04-18 19:22:47,728 : INFO : PROGRESS: at sentence #210000, processed 4669967 words, keeping 67390 word types\n",
      "2020-04-18 19:22:47,789 : INFO : PROGRESS: at sentence #220000, processed 4894968 words, keeping 68697 word types\n",
      "2020-04-18 19:22:47,828 : INFO : PROGRESS: at sentence #230000, processed 5117546 words, keeping 69958 word types\n",
      "2020-04-18 19:22:47,871 : INFO : PROGRESS: at sentence #240000, processed 5345051 words, keeping 71167 word types\n",
      "2020-04-18 19:22:47,914 : INFO : PROGRESS: at sentence #250000, processed 5559166 words, keeping 72351 word types\n",
      "2020-04-18 19:22:47,957 : INFO : PROGRESS: at sentence #260000, processed 5779147 words, keeping 73478 word types\n",
      "2020-04-18 19:22:48,002 : INFO : PROGRESS: at sentence #270000, processed 6000436 words, keeping 74767 word types\n",
      "2020-04-18 19:22:48,057 : INFO : PROGRESS: at sentence #280000, processed 6226315 words, keeping 76369 word types\n",
      "2020-04-18 19:22:48,121 : INFO : PROGRESS: at sentence #290000, processed 6449475 words, keeping 77839 word types\n",
      "2020-04-18 19:22:48,171 : INFO : PROGRESS: at sentence #300000, processed 6674078 words, keeping 79171 word types\n",
      "2020-04-18 19:22:48,235 : INFO : PROGRESS: at sentence #310000, processed 6899392 words, keeping 80480 word types\n",
      "2020-04-18 19:22:48,277 : INFO : PROGRESS: at sentence #320000, processed 7124279 words, keeping 81808 word types\n",
      "2020-04-18 19:22:48,321 : INFO : PROGRESS: at sentence #330000, processed 7346022 words, keeping 83030 word types\n",
      "2020-04-18 19:22:48,367 : INFO : PROGRESS: at sentence #340000, processed 7575534 words, keeping 84280 word types\n",
      "2020-04-18 19:22:48,416 : INFO : PROGRESS: at sentence #350000, processed 7798804 words, keeping 85425 word types\n",
      "2020-04-18 19:22:48,461 : INFO : PROGRESS: at sentence #360000, processed 8019467 words, keeping 86596 word types\n",
      "2020-04-18 19:22:48,508 : INFO : PROGRESS: at sentence #370000, processed 8246659 words, keeping 87708 word types\n",
      "2020-04-18 19:22:48,554 : INFO : PROGRESS: at sentence #380000, processed 8471806 words, keeping 88878 word types\n",
      "2020-04-18 19:22:48,604 : INFO : PROGRESS: at sentence #390000, processed 8701556 words, keeping 89907 word types\n",
      "2020-04-18 19:22:48,644 : INFO : PROGRESS: at sentence #400000, processed 8924505 words, keeping 90916 word types\n",
      "2020-04-18 19:22:48,688 : INFO : PROGRESS: at sentence #410000, processed 9145855 words, keeping 91880 word types\n",
      "2020-04-18 19:22:48,738 : INFO : PROGRESS: at sentence #420000, processed 9366935 words, keeping 92912 word types\n",
      "2020-04-18 19:22:48,807 : INFO : PROGRESS: at sentence #430000, processed 9594472 words, keeping 93932 word types\n",
      "2020-04-18 19:22:48,860 : INFO : PROGRESS: at sentence #440000, processed 9821225 words, keeping 94906 word types\n",
      "2020-04-18 19:22:48,915 : INFO : PROGRESS: at sentence #450000, processed 10044987 words, keeping 96036 word types\n",
      "2020-04-18 19:22:48,962 : INFO : PROGRESS: at sentence #460000, processed 10277747 words, keeping 97088 word types\n",
      "2020-04-18 19:22:49,010 : INFO : PROGRESS: at sentence #470000, processed 10505672 words, keeping 97933 word types\n",
      "2020-04-18 19:22:49,054 : INFO : PROGRESS: at sentence #480000, processed 10726056 words, keeping 98862 word types\n",
      "2020-04-18 19:22:49,101 : INFO : PROGRESS: at sentence #490000, processed 10952800 words, keeping 99871 word types\n",
      "2020-04-18 19:22:49,149 : INFO : PROGRESS: at sentence #500000, processed 11174456 words, keeping 100765 word types\n",
      "2020-04-18 19:22:49,190 : INFO : PROGRESS: at sentence #510000, processed 11399731 words, keeping 101699 word types\n",
      "2020-04-18 19:22:49,236 : INFO : PROGRESS: at sentence #520000, processed 11623082 words, keeping 102598 word types\n",
      "2020-04-18 19:22:49,286 : INFO : PROGRESS: at sentence #530000, processed 11847480 words, keeping 103400 word types\n",
      "2020-04-18 19:22:49,362 : INFO : PROGRESS: at sentence #540000, processed 12072095 words, keeping 104265 word types\n",
      "2020-04-18 19:22:49,409 : INFO : PROGRESS: at sentence #550000, processed 12297646 words, keeping 105133 word types\n",
      "2020-04-18 19:22:49,461 : INFO : PROGRESS: at sentence #560000, processed 12518936 words, keeping 105997 word types\n",
      "2020-04-18 19:22:49,504 : INFO : PROGRESS: at sentence #570000, processed 12748083 words, keeping 106787 word types\n",
      "2020-04-18 19:22:49,548 : INFO : PROGRESS: at sentence #580000, processed 12969579 words, keeping 107665 word types\n",
      "2020-04-18 19:22:49,595 : INFO : PROGRESS: at sentence #590000, processed 13195103 words, keeping 108502 word types\n",
      "2020-04-18 19:22:49,638 : INFO : PROGRESS: at sentence #600000, processed 13417301 words, keeping 109219 word types\n",
      "2020-04-18 19:22:49,680 : INFO : PROGRESS: at sentence #610000, processed 13638324 words, keeping 110093 word types\n",
      "2020-04-18 19:22:49,723 : INFO : PROGRESS: at sentence #620000, processed 13864649 words, keeping 110838 word types\n",
      "2020-04-18 19:22:49,766 : INFO : PROGRESS: at sentence #630000, processed 14088935 words, keeping 111611 word types\n",
      "2020-04-18 19:22:49,810 : INFO : PROGRESS: at sentence #640000, processed 14309718 words, keeping 112417 word types\n",
      "2020-04-18 19:22:49,853 : INFO : PROGRESS: at sentence #650000, processed 14535474 words, keeping 113197 word types\n",
      "2020-04-18 19:22:49,895 : INFO : PROGRESS: at sentence #660000, processed 14758264 words, keeping 113946 word types\n",
      "2020-04-18 19:22:49,949 : INFO : PROGRESS: at sentence #670000, processed 14981657 words, keeping 114644 word types\n",
      "2020-04-18 19:22:50,019 : INFO : PROGRESS: at sentence #680000, processed 15206489 words, keeping 115355 word types\n",
      "2020-04-18 19:22:50,081 : INFO : PROGRESS: at sentence #690000, processed 15428682 words, keeping 116132 word types\n",
      "2020-04-18 19:22:50,137 : INFO : PROGRESS: at sentence #700000, processed 15657388 words, keeping 116944 word types\n",
      "2020-04-18 19:22:50,181 : INFO : PROGRESS: at sentence #710000, processed 15880377 words, keeping 117597 word types\n",
      "2020-04-18 19:22:50,223 : INFO : PROGRESS: at sentence #720000, processed 16105664 words, keeping 118222 word types\n",
      "2020-04-18 19:22:50,265 : INFO : PROGRESS: at sentence #730000, processed 16332045 words, keeping 118955 word types\n",
      "2020-04-18 19:22:50,306 : INFO : PROGRESS: at sentence #740000, processed 16553078 words, keeping 119669 word types\n",
      "2020-04-18 19:22:50,348 : INFO : PROGRESS: at sentence #750000, processed 16771405 words, keeping 120296 word types\n",
      "2020-04-18 19:22:50,391 : INFO : PROGRESS: at sentence #760000, processed 16990809 words, keeping 120931 word types\n",
      "2020-04-18 19:22:50,433 : INFO : PROGRESS: at sentence #770000, processed 17217946 words, keeping 121704 word types\n",
      "2020-04-18 19:22:50,480 : INFO : PROGRESS: at sentence #780000, processed 17448092 words, keeping 122403 word types\n",
      "2020-04-18 19:22:50,540 : INFO : PROGRESS: at sentence #790000, processed 17675168 words, keeping 123067 word types\n",
      "2020-04-18 19:22:50,577 : INFO : collected 123505 word types from a corpus of 17798269 raw words and 795538 sentences\n",
      "2020-04-18 19:22:50,578 : INFO : Loading a fresh vocabulary\n",
      "2020-04-18 19:22:50,667 : INFO : effective_min_count=40 retains 16490 unique words (13% of original 123505, drops 107015)\n",
      "2020-04-18 19:22:50,668 : INFO : effective_min_count=40 leaves 17239123 word corpus (96% of original 17798269, drops 559146)\n",
      "2020-04-18 19:22:50,724 : INFO : deleting the raw counts dictionary of 123505 items\n",
      "2020-04-18 19:22:50,727 : INFO : sample=0.001 downsamples 48 most-common words\n",
      "2020-04-18 19:22:50,728 : INFO : downsampling leaves estimated 12749797 word corpus (74.0% of prior 17239123)\n",
      "2020-04-18 19:22:50,791 : INFO : estimated required memory for 16490 words and 300 dimensions: 47821000 bytes\n",
      "2020-04-18 19:22:50,791 : INFO : resetting layer weights\n",
      "2020-04-18 19:22:53,333 : INFO : training model with 8 workers on 16490 vocabulary and 300 features, using sg=0 hs=0 sample=0.001 negative=5 window=10\n",
      "2020-04-18 19:22:54,343 : INFO : EPOCH 1 - PROGRESS: at 8.94% examples, 1135065 words/s, in_qsize 15, out_qsize 0\n",
      "2020-04-18 19:22:55,343 : INFO : EPOCH 1 - PROGRESS: at 19.15% examples, 1211299 words/s, in_qsize 13, out_qsize 2\n",
      "2020-04-18 19:22:56,346 : INFO : EPOCH 1 - PROGRESS: at 29.20% examples, 1232670 words/s, in_qsize 14, out_qsize 1\n",
      "2020-04-18 19:22:57,354 : INFO : EPOCH 1 - PROGRESS: at 38.96% examples, 1231376 words/s, in_qsize 14, out_qsize 1\n",
      "2020-04-18 19:22:58,373 : INFO : EPOCH 1 - PROGRESS: at 48.55% examples, 1226457 words/s, in_qsize 15, out_qsize 0\n",
      "2020-04-18 19:22:59,378 : INFO : EPOCH 1 - PROGRESS: at 55.15% examples, 1161937 words/s, in_qsize 14, out_qsize 1\n",
      "2020-04-18 19:23:00,388 : INFO : EPOCH 1 - PROGRESS: at 61.30% examples, 1108130 words/s, in_qsize 13, out_qsize 2\n",
      "2020-04-18 19:23:01,393 : INFO : EPOCH 1 - PROGRESS: at 68.38% examples, 1081789 words/s, in_qsize 14, out_qsize 1\n",
      "2020-04-18 19:23:02,409 : INFO : EPOCH 1 - PROGRESS: at 75.70% examples, 1063845 words/s, in_qsize 14, out_qsize 1\n",
      "2020-04-18 19:23:03,413 : INFO : EPOCH 1 - PROGRESS: at 82.21% examples, 1040215 words/s, in_qsize 14, out_qsize 1\n",
      "2020-04-18 19:23:04,420 : INFO : EPOCH 1 - PROGRESS: at 89.37% examples, 1028330 words/s, in_qsize 15, out_qsize 0\n",
      "2020-04-18 19:23:05,426 : INFO : EPOCH 1 - PROGRESS: at 96.24% examples, 1014928 words/s, in_qsize 14, out_qsize 1\n",
      "2020-04-18 19:23:05,904 : INFO : worker thread finished; awaiting finish of 7 more threads\n",
      "2020-04-18 19:23:05,913 : INFO : worker thread finished; awaiting finish of 6 more threads\n",
      "2020-04-18 19:23:05,918 : INFO : worker thread finished; awaiting finish of 5 more threads\n",
      "2020-04-18 19:23:05,919 : INFO : worker thread finished; awaiting finish of 4 more threads\n",
      "2020-04-18 19:23:05,927 : INFO : worker thread finished; awaiting finish of 3 more threads\n",
      "2020-04-18 19:23:05,935 : INFO : worker thread finished; awaiting finish of 2 more threads\n",
      "2020-04-18 19:23:05,938 : INFO : worker thread finished; awaiting finish of 1 more threads\n",
      "2020-04-18 19:23:05,942 : INFO : worker thread finished; awaiting finish of 0 more threads\n",
      "2020-04-18 19:23:05,943 : INFO : EPOCH - 1 : training on 17798269 raw words (12752577 effective words) took 12.6s, 1011891 effective words/s\n",
      "2020-04-18 19:23:06,961 : INFO : EPOCH 2 - PROGRESS: at 6.68% examples, 843690 words/s, in_qsize 14, out_qsize 1\n",
      "2020-04-18 19:23:07,964 : INFO : EPOCH 2 - PROGRESS: at 13.88% examples, 874759 words/s, in_qsize 16, out_qsize 1\n",
      "2020-04-18 19:23:08,966 : INFO : EPOCH 2 - PROGRESS: at 21.35% examples, 897002 words/s, in_qsize 15, out_qsize 0\n",
      "2020-04-18 19:23:09,977 : INFO : EPOCH 2 - PROGRESS: at 28.88% examples, 909624 words/s, in_qsize 16, out_qsize 2\n",
      "2020-04-18 19:23:10,984 : INFO : EPOCH 2 - PROGRESS: at 36.17% examples, 910778 words/s, in_qsize 16, out_qsize 1\n",
      "2020-04-18 19:23:11,992 : INFO : EPOCH 2 - PROGRESS: at 43.37% examples, 911626 words/s, in_qsize 13, out_qsize 2\n",
      "2020-04-18 19:23:13,017 : INFO : EPOCH 2 - PROGRESS: at 50.63% examples, 911001 words/s, in_qsize 14, out_qsize 1\n",
      "2020-04-18 19:23:14,025 : INFO : EPOCH 2 - PROGRESS: at 58.18% examples, 917652 words/s, in_qsize 15, out_qsize 0\n",
      "2020-04-18 19:23:15,038 : INFO : EPOCH 2 - PROGRESS: at 65.62% examples, 919988 words/s, in_qsize 13, out_qsize 2\n",
      "2020-04-18 19:23:16,044 : INFO : EPOCH 2 - PROGRESS: at 73.11% examples, 923206 words/s, in_qsize 15, out_qsize 0\n",
      "2020-04-18 19:23:17,045 : INFO : EPOCH 2 - PROGRESS: at 80.42% examples, 923759 words/s, in_qsize 14, out_qsize 1\n",
      "2020-04-18 19:23:18,050 : INFO : EPOCH 2 - PROGRESS: at 87.64% examples, 923235 words/s, in_qsize 16, out_qsize 0\n",
      "2020-04-18 19:23:19,054 : INFO : EPOCH 2 - PROGRESS: at 94.60% examples, 920231 words/s, in_qsize 15, out_qsize 0\n",
      "2020-04-18 19:23:19,725 : INFO : worker thread finished; awaiting finish of 7 more threads\n",
      "2020-04-18 19:23:19,727 : INFO : worker thread finished; awaiting finish of 6 more threads\n",
      "2020-04-18 19:23:19,736 : INFO : worker thread finished; awaiting finish of 5 more threads\n",
      "2020-04-18 19:23:19,737 : INFO : worker thread finished; awaiting finish of 4 more threads\n",
      "2020-04-18 19:23:19,753 : INFO : worker thread finished; awaiting finish of 3 more threads\n",
      "2020-04-18 19:23:19,754 : INFO : worker thread finished; awaiting finish of 2 more threads\n",
      "2020-04-18 19:23:19,757 : INFO : worker thread finished; awaiting finish of 1 more threads\n",
      "2020-04-18 19:23:19,763 : INFO : worker thread finished; awaiting finish of 0 more threads\n",
      "2020-04-18 19:23:19,764 : INFO : EPOCH - 2 : training on 17798269 raw words (12749833 effective words) took 13.8s, 923127 effective words/s\n",
      "2020-04-18 19:23:20,784 : INFO : EPOCH 3 - PROGRESS: at 7.30% examples, 920077 words/s, in_qsize 14, out_qsize 1\n",
      "2020-04-18 19:23:21,804 : INFO : EPOCH 3 - PROGRESS: at 14.89% examples, 929978 words/s, in_qsize 15, out_qsize 0\n",
      "2020-04-18 19:23:22,805 : INFO : EPOCH 3 - PROGRESS: at 22.59% examples, 943490 words/s, in_qsize 15, out_qsize 0\n",
      "2020-04-18 19:23:23,806 : INFO : EPOCH 3 - PROGRESS: at 29.31% examples, 921969 words/s, in_qsize 15, out_qsize 0\n",
      "2020-04-18 19:23:24,812 : INFO : EPOCH 3 - PROGRESS: at 36.40% examples, 915089 words/s, in_qsize 15, out_qsize 0\n",
      "2020-04-18 19:23:25,814 : INFO : EPOCH 3 - PROGRESS: at 43.69% examples, 918537 words/s, in_qsize 15, out_qsize 0\n",
      "2020-04-18 19:23:26,816 : INFO : EPOCH 3 - PROGRESS: at 51.13% examples, 922860 words/s, in_qsize 14, out_qsize 1\n",
      "2020-04-18 19:23:27,825 : INFO : EPOCH 3 - PROGRESS: at 58.35% examples, 922499 words/s, in_qsize 14, out_qsize 1\n",
      "2020-04-18 19:23:28,831 : INFO : EPOCH 3 - PROGRESS: at 65.90% examples, 926792 words/s, in_qsize 14, out_qsize 1\n",
      "2020-04-18 19:23:29,831 : INFO : EPOCH 3 - PROGRESS: at 73.11% examples, 926443 words/s, in_qsize 15, out_qsize 0\n",
      "2020-04-18 19:23:30,837 : INFO : EPOCH 3 - PROGRESS: at 78.95% examples, 909487 words/s, in_qsize 16, out_qsize 3\n",
      "2020-04-18 19:23:31,848 : INFO : EPOCH 3 - PROGRESS: at 85.74% examples, 905046 words/s, in_qsize 15, out_qsize 0\n",
      "2020-04-18 19:23:32,851 : INFO : EPOCH 3 - PROGRESS: at 91.92% examples, 896302 words/s, in_qsize 15, out_qsize 0\n",
      "2020-04-18 19:23:33,854 : INFO : EPOCH 3 - PROGRESS: at 99.27% examples, 898980 words/s, in_qsize 13, out_qsize 0\n",
      "2020-04-18 19:23:33,895 : INFO : worker thread finished; awaiting finish of 7 more threads\n",
      "2020-04-18 19:23:33,904 : INFO : worker thread finished; awaiting finish of 6 more threads\n",
      "2020-04-18 19:23:33,910 : INFO : worker thread finished; awaiting finish of 5 more threads\n",
      "2020-04-18 19:23:33,912 : INFO : worker thread finished; awaiting finish of 4 more threads\n",
      "2020-04-18 19:23:33,919 : INFO : worker thread finished; awaiting finish of 3 more threads\n",
      "2020-04-18 19:23:33,933 : INFO : worker thread finished; awaiting finish of 2 more threads\n",
      "2020-04-18 19:23:33,934 : INFO : worker thread finished; awaiting finish of 1 more threads\n",
      "2020-04-18 19:23:33,940 : INFO : worker thread finished; awaiting finish of 0 more threads\n",
      "2020-04-18 19:23:33,942 : INFO : EPOCH - 3 : training on 17798269 raw words (12750437 effective words) took 14.2s, 899936 effective words/s\n",
      "2020-04-18 19:23:34,963 : INFO : EPOCH 4 - PROGRESS: at 7.20% examples, 903210 words/s, in_qsize 15, out_qsize 0\n",
      "2020-04-18 19:23:35,965 : INFO : EPOCH 4 - PROGRESS: at 14.72% examples, 926480 words/s, in_qsize 16, out_qsize 0\n",
      "2020-04-18 19:23:36,969 : INFO : EPOCH 4 - PROGRESS: at 22.42% examples, 940457 words/s, in_qsize 15, out_qsize 0\n",
      "2020-04-18 19:23:37,970 : INFO : EPOCH 4 - PROGRESS: at 29.82% examples, 940989 words/s, in_qsize 16, out_qsize 0\n",
      "2020-04-18 19:23:38,972 : INFO : EPOCH 4 - PROGRESS: at 37.17% examples, 938211 words/s, in_qsize 16, out_qsize 0\n",
      "2020-04-18 19:23:39,982 : INFO : EPOCH 4 - PROGRESS: at 44.20% examples, 930567 words/s, in_qsize 14, out_qsize 1\n",
      "2020-04-18 19:23:40,983 : INFO : EPOCH 4 - PROGRESS: at 51.65% examples, 933357 words/s, in_qsize 14, out_qsize 1\n",
      "2020-04-18 19:23:41,999 : INFO : EPOCH 4 - PROGRESS: at 58.95% examples, 932711 words/s, in_qsize 13, out_qsize 2\n",
      "2020-04-18 19:23:43,002 : INFO : EPOCH 4 - PROGRESS: at 66.06% examples, 929706 words/s, in_qsize 15, out_qsize 0\n",
      "2020-04-18 19:23:44,014 : INFO : EPOCH 4 - PROGRESS: at 72.66% examples, 920044 words/s, in_qsize 14, out_qsize 1\n",
      "2020-04-18 19:23:45,032 : INFO : EPOCH 4 - PROGRESS: at 79.24% examples, 911025 words/s, in_qsize 16, out_qsize 2\n",
      "2020-04-18 19:23:46,036 : INFO : EPOCH 4 - PROGRESS: at 86.25% examples, 909339 words/s, in_qsize 15, out_qsize 0\n",
      "2020-04-18 19:23:47,047 : INFO : EPOCH 4 - PROGRESS: at 93.74% examples, 912338 words/s, in_qsize 15, out_qsize 0\n",
      "2020-04-18 19:23:47,832 : INFO : worker thread finished; awaiting finish of 7 more threads\n",
      "2020-04-18 19:23:47,838 : INFO : worker thread finished; awaiting finish of 6 more threads\n",
      "2020-04-18 19:23:47,839 : INFO : worker thread finished; awaiting finish of 5 more threads\n",
      "2020-04-18 19:23:47,846 : INFO : worker thread finished; awaiting finish of 4 more threads\n",
      "2020-04-18 19:23:47,862 : INFO : worker thread finished; awaiting finish of 3 more threads\n",
      "2020-04-18 19:23:47,868 : INFO : worker thread finished; awaiting finish of 2 more threads\n",
      "2020-04-18 19:23:47,870 : INFO : worker thread finished; awaiting finish of 1 more threads\n",
      "2020-04-18 19:23:47,873 : INFO : worker thread finished; awaiting finish of 0 more threads\n",
      "2020-04-18 19:23:47,874 : INFO : EPOCH - 4 : training on 17798269 raw words (12749095 effective words) took 13.9s, 915654 effective words/s\n",
      "2020-04-18 19:23:48,911 : INFO : EPOCH 5 - PROGRESS: at 6.68% examples, 827069 words/s, in_qsize 16, out_qsize 4\n",
      "2020-04-18 19:23:49,923 : INFO : EPOCH 5 - PROGRESS: at 13.65% examples, 849006 words/s, in_qsize 14, out_qsize 1\n",
      "2020-04-18 19:23:50,928 : INFO : EPOCH 5 - PROGRESS: at 19.65% examples, 817678 words/s, in_qsize 16, out_qsize 0\n",
      "2020-04-18 19:23:51,929 : INFO : EPOCH 5 - PROGRESS: at 26.46% examples, 829264 words/s, in_qsize 13, out_qsize 2\n",
      "2020-04-18 19:23:52,931 : INFO : EPOCH 5 - PROGRESS: at 34.04% examples, 854302 words/s, in_qsize 14, out_qsize 1\n",
      "2020-04-18 19:23:53,954 : INFO : EPOCH 5 - PROGRESS: at 41.37% examples, 864792 words/s, in_qsize 13, out_qsize 2\n",
      "2020-04-18 19:23:54,954 : INFO : EPOCH 5 - PROGRESS: at 48.00% examples, 862742 words/s, in_qsize 13, out_qsize 2\n",
      "2020-04-18 19:23:55,966 : INFO : EPOCH 5 - PROGRESS: at 54.93% examples, 864490 words/s, in_qsize 14, out_qsize 1\n",
      "2020-04-18 19:23:56,974 : INFO : EPOCH 5 - PROGRESS: at 62.43% examples, 874839 words/s, in_qsize 16, out_qsize 0\n",
      "2020-04-18 19:23:57,982 : INFO : EPOCH 5 - PROGRESS: at 70.05% examples, 883841 words/s, in_qsize 15, out_qsize 0\n",
      "2020-04-18 19:23:58,986 : INFO : EPOCH 5 - PROGRESS: at 77.49% examples, 889730 words/s, in_qsize 16, out_qsize 0\n",
      "2020-04-18 19:24:00,009 : INFO : EPOCH 5 - PROGRESS: at 84.45% examples, 887791 words/s, in_qsize 15, out_qsize 5\n",
      "2020-04-18 19:24:01,021 : INFO : EPOCH 5 - PROGRESS: at 90.71% examples, 880396 words/s, in_qsize 14, out_qsize 1\n",
      "2020-04-18 19:24:02,023 : INFO : EPOCH 5 - PROGRESS: at 97.07% examples, 875138 words/s, in_qsize 16, out_qsize 0\n",
      "2020-04-18 19:24:02,373 : INFO : worker thread finished; awaiting finish of 7 more threads\n",
      "2020-04-18 19:24:02,376 : INFO : worker thread finished; awaiting finish of 6 more threads\n",
      "2020-04-18 19:24:02,378 : INFO : worker thread finished; awaiting finish of 5 more threads\n",
      "2020-04-18 19:24:02,391 : INFO : worker thread finished; awaiting finish of 4 more threads\n",
      "2020-04-18 19:24:02,396 : INFO : worker thread finished; awaiting finish of 3 more threads\n",
      "2020-04-18 19:24:02,404 : INFO : worker thread finished; awaiting finish of 2 more threads\n",
      "2020-04-18 19:24:02,405 : INFO : worker thread finished; awaiting finish of 1 more threads\n",
      "2020-04-18 19:24:02,411 : INFO : worker thread finished; awaiting finish of 0 more threads\n",
      "2020-04-18 19:24:02,412 : INFO : EPOCH - 5 : training on 17798269 raw words (12753528 effective words) took 14.5s, 877758 effective words/s\n",
      "2020-04-18 19:24:02,413 : INFO : training on a 88991345 raw words (63755470 effective words) took 69.1s, 922936 effective words/s\n"
     ]
    }
   ],
   "source": [
    "model = word2vec.Word2Vec(sentences, workers=num_workers, size=num_features, \n",
    "                         min_count=min_word_count, window=context, sample=downsampling)"
   ]
  },
  {
   "cell_type": "code",
   "execution_count": 42,
   "metadata": {},
   "outputs": [
    {
     "name": "stderr",
     "output_type": "stream",
     "text": [
      "2020-04-18 19:25:50,173 : INFO : precomputing L2-norms of word weight vectors\n"
     ]
    }
   ],
   "source": [
    "model.init_sims(replace=True)"
   ]
  },
  {
   "cell_type": "code",
   "execution_count": 44,
   "metadata": {},
   "outputs": [
    {
     "name": "stderr",
     "output_type": "stream",
     "text": [
      "2020-04-18 19:26:57,166 : INFO : saving Word2Vec object under ./models/300feature_490minwords_10context, separately None\n",
      "2020-04-18 19:26:57,170 : INFO : not storing attribute vectors_norm\n",
      "2020-04-18 19:26:57,173 : INFO : not storing attribute cum_table\n",
      "2020-04-18 19:26:57,492 : INFO : saved ./models/300feature_490minwords_10context\n"
     ]
    }
   ],
   "source": [
    "model.save(\"./models/300feature_490minwords_10context\")"
   ]
  },
  {
   "cell_type": "code",
   "execution_count": 45,
   "metadata": {},
   "outputs": [
    {
     "name": "stderr",
     "output_type": "stream",
     "text": [
      "/home/rohit/.pyenv/versions/3.6.10/lib/python3.6/site-packages/ipykernel_launcher.py:1: DeprecationWarning: Call to deprecated `doesnt_match` (Method will be removed in 4.0.0, use self.wv.doesnt_match() instead).\n",
      "  \"\"\"Entry point for launching an IPython kernel.\n",
      "/home/rohit/.pyenv/versions/3.6.10/lib/python3.6/site-packages/gensim/models/keyedvectors.py:877: FutureWarning: arrays to stack must be passed as a \"sequence\" type such as list or tuple. Support for non-sequence iterables such as generators is deprecated as of NumPy 1.16 and will raise an error in the future.\n",
      "  vectors = vstack(self.word_vec(word, use_norm=True) for word in used_words).astype(REAL)\n"
     ]
    },
    {
     "data": {
      "text/plain": [
       "'kitchen'"
      ]
     },
     "execution_count": 45,
     "metadata": {},
     "output_type": "execute_result"
    }
   ],
   "source": [
    "model.doesnt_match('man woman child kitchen'.split())"
   ]
  },
  {
   "cell_type": "code",
   "execution_count": 46,
   "metadata": {},
   "outputs": [
    {
     "name": "stderr",
     "output_type": "stream",
     "text": [
      "/home/rohit/.pyenv/versions/3.6.10/lib/python3.6/site-packages/ipykernel_launcher.py:1: DeprecationWarning: Call to deprecated `doesnt_match` (Method will be removed in 4.0.0, use self.wv.doesnt_match() instead).\n",
      "  \"\"\"Entry point for launching an IPython kernel.\n"
     ]
    },
    {
     "data": {
      "text/plain": [
       "'berlin'"
      ]
     },
     "execution_count": 46,
     "metadata": {},
     "output_type": "execute_result"
    }
   ],
   "source": [
    "model.doesnt_match(\"france england germany berlin\".split())"
   ]
  },
  {
   "cell_type": "code",
   "execution_count": 47,
   "metadata": {},
   "outputs": [
    {
     "name": "stderr",
     "output_type": "stream",
     "text": [
      "/home/rohit/.pyenv/versions/3.6.10/lib/python3.6/site-packages/ipykernel_launcher.py:1: DeprecationWarning: Call to deprecated `most_similar` (Method will be removed in 4.0.0, use self.wv.most_similar() instead).\n",
      "  \"\"\"Entry point for launching an IPython kernel.\n"
     ]
    },
    {
     "data": {
      "text/plain": [
       "[('woman', 0.6107006072998047),\n",
       " ('lady', 0.6060937643051147),\n",
       " ('lad', 0.5677387714385986),\n",
       " ('guy', 0.5258022546768188),\n",
       " ('monk', 0.516036868095398),\n",
       " ('chap', 0.5148513317108154),\n",
       " ('businessman', 0.5131686925888062),\n",
       " ('men', 0.5094049572944641),\n",
       " ('boy', 0.5078904628753662),\n",
       " ('person', 0.5072914958000183)]"
      ]
     },
     "execution_count": 47,
     "metadata": {},
     "output_type": "execute_result"
    }
   ],
   "source": [
    "model.most_similar(\"man\")"
   ]
  },
  {
   "cell_type": "code",
   "execution_count": 48,
   "metadata": {},
   "outputs": [
    {
     "name": "stderr",
     "output_type": "stream",
     "text": [
      "/home/rohit/.pyenv/versions/3.6.10/lib/python3.6/site-packages/ipykernel_launcher.py:1: DeprecationWarning: Call to deprecated `most_similar` (Method will be removed in 4.0.0, use self.wv.most_similar() instead).\n",
      "  \"\"\"Entry point for launching an IPython kernel.\n"
     ]
    },
    {
     "data": {
      "text/plain": [
       "[('bride', 0.6487500667572021),\n",
       " ('princess', 0.6360000371932983),\n",
       " ('stepmother', 0.597882866859436),\n",
       " ('victoria', 0.5947198271751404),\n",
       " ('mistress', 0.59171462059021),\n",
       " ('maid', 0.590878963470459),\n",
       " ('eva', 0.5819459557533264),\n",
       " ('widow', 0.5743154287338257),\n",
       " ('nun', 0.5731497406959534),\n",
       " ('maria', 0.5728486180305481)]"
      ]
     },
     "execution_count": 48,
     "metadata": {},
     "output_type": "execute_result"
    }
   ],
   "source": [
    "model.most_similar('queen')"
   ]
  },
  {
   "cell_type": "code",
   "execution_count": 52,
   "metadata": {},
   "outputs": [
    {
     "name": "stderr",
     "output_type": "stream",
     "text": [
      "/home/rohit/.pyenv/versions/3.6.10/lib/python3.6/site-packages/ipykernel_launcher.py:1: DeprecationWarning: Call to deprecated `doesnt_match` (Method will be removed in 4.0.0, use self.wv.doesnt_match() instead).\n",
      "  \"\"\"Entry point for launching an IPython kernel.\n"
     ]
    },
    {
     "data": {
      "text/plain": [
       "'king'"
      ]
     },
     "execution_count": 52,
     "metadata": {},
     "output_type": "execute_result"
    }
   ],
   "source": [
    "model.doesnt_match('man woman king queen bottle'.split())"
   ]
  },
  {
   "cell_type": "code",
   "execution_count": 54,
   "metadata": {},
   "outputs": [
    {
     "name": "stderr",
     "output_type": "stream",
     "text": [
      "/home/rohit/.pyenv/versions/3.6.10/lib/python3.6/site-packages/ipykernel_launcher.py:1: DeprecationWarning: Call to deprecated `most_similar` (Method will be removed in 4.0.0, use self.wv.most_similar() instead).\n",
      "  \"\"\"Entry point for launching an IPython kernel.\n"
     ]
    },
    {
     "data": {
      "text/plain": [
       "[('terrible', 0.7655409574508667),\n",
       " ('horrible', 0.7218703031539917),\n",
       " ('atrocious', 0.719491720199585),\n",
       " ('dreadful', 0.7194738388061523),\n",
       " ('abysmal', 0.7138656377792358),\n",
       " ('horrid', 0.682663083076477),\n",
       " ('horrendous', 0.6818600296974182),\n",
       " ('appalling', 0.6623293161392212),\n",
       " ('lousy', 0.6436792612075806),\n",
       " ('embarrassing', 0.6166320443153381)]"
      ]
     },
     "execution_count": 54,
     "metadata": {},
     "output_type": "execute_result"
    }
   ],
   "source": [
    "model.most_similar(\"awful\")"
   ]
  }
 ],
 "metadata": {
  "kernelspec": {
   "display_name": "Python3.6",
   "language": "python",
   "name": "python3.6"
  },
  "language_info": {
   "codemirror_mode": {
    "name": "ipython",
    "version": 3
   },
   "file_extension": ".py",
   "mimetype": "text/x-python",
   "name": "python",
   "nbconvert_exporter": "python",
   "pygments_lexer": "ipython3",
   "version": "3.6.10"
  }
 },
 "nbformat": 4,
 "nbformat_minor": 4
}
